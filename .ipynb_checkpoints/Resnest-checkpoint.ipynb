{
 "cells": [
  {
   "cell_type": "code",
   "execution_count": 171,
   "id": "8ae586d5-6c80-4661-9267-120b5c939cbe",
   "metadata": {},
   "outputs": [],
   "source": [
    "import torch\n",
    "import torch.nn as nn\n",
    "import numpy as np\n",
    "import matplotlib.pyplot as plt\n",
    "%config Completer.use_jedi = False"
   ]
  },
  {
   "cell_type": "code",
   "execution_count": 172,
   "id": "287c7003-f031-45ec-b4d6-8419567a3431",
   "metadata": {},
   "outputs": [],
   "source": [
    "class Small_Block(nn.Module):\n",
    "    def __init__(self,hparams):\n",
    "        super().__init__()\n",
    "        self.hparams=hparams\n",
    "        r=self.hparams['layer_feature_maps'][0]\n",
    "        k=self.hparams['layer_feature_maps'][1]\n",
    "        drop_rate=self.hparams['dropout_rate']\n",
    "        in_ch=self.hparams['n_channels']\n",
    "        \n",
    "        self.conv1=nn.Conv1d(int(in_ch),int(in_ch/r/k),1,stride=1)\n",
    "        self.bn1=nn.BatchNorm1d(int(in_ch/r/k))\n",
    "        self.drop=nn.Dropout(drop_rate)\n",
    "        \n",
    "        self.conv2=nn.Conv1d(int(in_ch/r/k),int(in_ch/k),3,stride=1,padding=1)\n",
    "        self.bn2=nn.BatchNorm1d(int(in_ch/k))\n",
    "        self.relu=nn.ReLU()\n",
    "        \n",
    "        \n",
    "    def forward(self, x):\n",
    "        x=self.conv1(x)\n",
    "        print(\"The shape of data aftr 1st conv should be [1,c'/r/k,w] :{}\".format(x.shape))\n",
    "        x=self.bn1(x)\n",
    "        x=self.relu(x)\n",
    "        x=self.drop(x)\n",
    "        \n",
    "        x=self.conv2(x)\n",
    "        x=self.bn2(x)\n",
    "        x=self.relu(x)\n",
    "        x=self.drop(x)\n",
    "        print(\"The shape of data aftr 2nd conv should be [1,c'/k,w] :{}\".format(x.shape))\n",
    "        print(\"#############################################\")\n",
    "        return x\n",
    "        \n",
    "        "
   ]
  },
  {
   "cell_type": "code",
   "execution_count": 188,
   "id": "3b07c61e-639f-4fa1-88c2-de5e99122e3c",
   "metadata": {},
   "outputs": [],
   "source": [
    "class Cardinal(nn.Module):\n",
    "    def __init__(self,hparams,radix=Small_Block):\n",
    "        super().__init__()\n",
    "        self.hparams=hparams\n",
    "        self.__radix_block=radix #small block\n",
    "        self.r=self.hparams['layer_feature_maps'][0] #number of radixes            \n",
    "        self.radix=self.__build_radix() #sends to build layers\n",
    "        self.linears = nn.ModuleList([self.radix[i] for i in range(self.r)])\n",
    "        \n",
    "    def forward(self,x):\n",
    "        #concat tensors for every r radixs'\n",
    "        #radix_current = torch.empty(size=(self.radix[0](x).shape))\n",
    "        radix_current=[]\n",
    "        for i, l in enumerate(self.linears):\n",
    "            radix_current.append(l(x))\n",
    "        radix_concat = torch.cat(radix_current, dim=1)\n",
    "        return radix_concat\n",
    "            \n",
    "    def __build_radix(self):\n",
    "        rdx=[]\n",
    "        for i in range(self.r):\n",
    "            rdx.append(\n",
    "            self.__radix_block(self.hparams)\n",
    "            )\n",
    "        return nn.Sequential(*rdx)            "
   ]
  },
  {
   "cell_type": "code",
   "execution_count": 189,
   "id": "d07f7b56-d363-4cf1-9826-9ae0cb50e9c9",
   "metadata": {},
   "outputs": [],
   "source": [
    "class ResNeSt(nn.Module):\n",
    "    def __init__(self,hparams,cardinal_block=Cardinal):\n",
    "        super().__init__()\n",
    "        self.cardinal_block=cardinal_block\n",
    "        self.hparams=hparams\n",
    "        \n",
    "        self.drop_rate=self.hparams['dropout_rate']\n",
    "        self.r=self.hparams['layer_feature_maps'][0]\n",
    "        self.k=self.hparams['layer_feature_maps'][1]\n",
    "        self.cardinal=self.build_cardinal_block()\n",
    "        \n",
    "        self.linears = nn.ModuleList([self.cardinal[i] for i in range(self.k)])\n",
    "        \n",
    "    def forward(self,x):\n",
    "        cardinal_current=0\n",
    "       \n",
    "        for i, l in enumerate(self.linears):\n",
    "            cardinal_current =cardinal_current+l(x)\n",
    "    \n",
    "        return cardinal_current  #torch.Size([1, c, w]) for w=300 c=30 r=3 k=2 torch.Size([1, 30, 300])\n",
    "        \n",
    "    \n",
    "    def build_cardinal_block(self):\n",
    "        crb=[]\n",
    "        for i in range (self.k):\n",
    "            crb.append(\n",
    "            self.cardinal_block(self.hparams)\n",
    "            )\n",
    "        return nn.Sequential(*crb)        "
   ]
  },
  {
   "cell_type": "code",
   "execution_count": null,
   "id": "f8d7c3c0-9d64-4546-b7f7-623ef1cae284",
   "metadata": {},
   "outputs": [],
   "source": [
    "class AutoEncoder(nn.Module):\n",
    "    def __init__(self, hparams, resnest=Cardinal):\n",
    "        super().__init__()\n",
    "        self.resnest_block=resnest\n",
    "        self.hparams=hparams"
   ]
  },
  {
   "cell_type": "code",
   "execution_count": 194,
   "id": "b5bcc466-ca9c-4750-80ac-6f5f916ccc0d",
   "metadata": {},
   "outputs": [
    {
     "name": "stdout",
     "output_type": "stream",
     "text": [
      "The shape of data aftr 1st conv should be [1,c'/r/k,w] :torch.Size([1, 5, 300])\n",
      "The shape of data aftr 2nd conv should be [1,c'/k,w] :torch.Size([1, 15, 300])\n",
      "#############################################\n",
      "The shape of data aftr 1st conv should be [1,c'/r/k,w] :torch.Size([1, 5, 300])\n",
      "The shape of data aftr 2nd conv should be [1,c'/k,w] :torch.Size([1, 15, 300])\n",
      "#############################################\n",
      "The shape of data aftr 1st conv should be [1,c'/r/k,w] :torch.Size([1, 5, 300])\n",
      "The shape of data aftr 2nd conv should be [1,c'/k,w] :torch.Size([1, 15, 300])\n",
      "#############################################\n",
      "The shape of data aftr 1st conv should be [1,c'/r/k,w] :torch.Size([1, 5, 300])\n",
      "The shape of data aftr 2nd conv should be [1,c'/k,w] :torch.Size([1, 15, 300])\n",
      "#############################################\n",
      "The shape of data aftr 1st conv should be [1,c'/r/k,w] :torch.Size([1, 5, 300])\n",
      "The shape of data aftr 2nd conv should be [1,c'/k,w] :torch.Size([1, 15, 300])\n",
      "#############################################\n",
      "The shape of data aftr 1st conv should be [1,c'/r/k,w] :torch.Size([1, 5, 300])\n",
      "The shape of data aftr 2nd conv should be [1,c'/k,w] :torch.Size([1, 15, 300])\n",
      "#############################################\n"
     ]
    }
   ],
   "source": [
    "\n",
    "hparams={\"pool_size\":2,\"layer_feature_maps\":[3,2],\"n_channels\":30,\"dropout_rate\":0.1,'n_samples':300}\n",
    "                                            #3,2               30\n",
    "num_ch=hparams[\"n_channels\"]; \n",
    "num_samp=hparams[\"n_samples\"]\n",
    "inp=10+np.random.randint(0,20,(num_ch,num_samp))/5\n",
    "x=torch.tensor([inp]) #torch.Size([1, 30, 300])\n",
    "x = x.type(torch.float)\n",
    "\n",
    "net=ResNeSt(hparams)\n",
    "out=net.forward(x) #torch.Size([1, 30, 300])\n"
   ]
  },
  {
   "cell_type": "code",
   "execution_count": 192,
   "id": "3be503ac-e2c9-433a-b6c3-8d50367d8919",
   "metadata": {},
   "outputs": [
    {
     "name": "stdout",
     "output_type": "stream",
     "text": [
      "The shape of data aftr 1st conv should be [1,c'/r/k,w] :torch.Size([1, 5, 300])\n",
      "The shape of data aftr 2nd conv should be [1,c'/k,w] :torch.Size([1, 15, 300])\n",
      "#############################################\n",
      "The shape of data aftr 1st conv should be [1,c'/r/k,w] :torch.Size([1, 5, 300])\n",
      "The shape of data aftr 2nd conv should be [1,c'/k,w] :torch.Size([1, 15, 300])\n",
      "#############################################\n",
      "The shape of data aftr 1st conv should be [1,c'/r/k,w] :torch.Size([1, 5, 300])\n",
      "The shape of data aftr 2nd conv should be [1,c'/k,w] :torch.Size([1, 15, 300])\n",
      "#############################################\n"
     ]
    }
   ],
   "source": [
    "car=Cardinal(hparams)\n",
    "#car.print_par()\n",
    "#car.build_radix()\n",
    "bcat=car.forward(x)"
   ]
  },
  {
   "cell_type": "code",
   "execution_count": 134,
   "id": "0fe7b195-a6d2-460a-9176-92f8874e129a",
   "metadata": {},
   "outputs": [],
   "source": [
    "class MyModule(nn.Module):\n",
    "    def __init__(self):\n",
    "        super(MyModule, self).__init__()\n",
    "        self.linears = nn.ModuleList([nn.Linear(30, 300) for i in range(10)])\n",
    "\n",
    "    def forward(self, x):\n",
    "        # ModuleList can act as an iterable, or be indexed using ints\n",
    "        for i, l in enumerate(self.linears):\n",
    "            x = self.linears[i // 2](x) + l(x)\n",
    "        return x"
   ]
  }
 ],
 "metadata": {
  "kernelspec": {
   "display_name": "Python 3",
   "language": "python",
   "name": "python3"
  },
  "language_info": {
   "codemirror_mode": {
    "name": "ipython",
    "version": 3
   },
   "file_extension": ".py",
   "mimetype": "text/x-python",
   "name": "python",
   "nbconvert_exporter": "python",
   "pygments_lexer": "ipython3",
   "version": "3.8.5"
  },
  "toc-autonumbering": false
 },
 "nbformat": 4,
 "nbformat_minor": 5
}
